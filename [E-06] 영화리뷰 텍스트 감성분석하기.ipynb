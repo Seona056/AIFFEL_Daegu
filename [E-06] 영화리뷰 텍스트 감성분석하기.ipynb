{
 "cells": [
  {
   "cell_type": "markdown",
   "id": "94090ab2",
   "metadata": {},
   "source": [
    "# 6-11. 프로젝트 : 네이버 영화리뷰 감성분석 도전하기\n",
    "\n",
    "이전 스텝까지는 영문 텍스트의 감정 분석을 진행해 보았습니다. 그렇다면 이번에는 한국어 텍스트의 감정 분석을 진행해 보면 어떨까요? 오늘 활용할 데이터셋은 네이버 영화의 댓글을 모아 구성된 [Naver sentiment movie corpus](https://github.com/e9t/nsmc)입니다.\n",
    "\n",
    "데이터 다운로드 없이 Cloud shell에서 해당 파일의 심볼릭 링크를 연결해 주세요\n",
    "\n",
    "`$ ln -s ~/data/*.txt ~/aiffel/sentiment_classification/data`\n",
    "\n",
    "프로젝트 진행 순서는 다음과 같습니다."
   ]
  },
  {
   "cell_type": "markdown",
   "id": "88db264a",
   "metadata": {},
   "source": [
    "## 1) 데이터 준비와 확인"
   ]
  },
  {
   "cell_type": "code",
   "execution_count": 1,
   "id": "52e0f733",
   "metadata": {},
   "outputs": [
    {
     "data": {
      "text/html": [
       "<div>\n",
       "<style scoped>\n",
       "    .dataframe tbody tr th:only-of-type {\n",
       "        vertical-align: middle;\n",
       "    }\n",
       "\n",
       "    .dataframe tbody tr th {\n",
       "        vertical-align: top;\n",
       "    }\n",
       "\n",
       "    .dataframe thead th {\n",
       "        text-align: right;\n",
       "    }\n",
       "</style>\n",
       "<table border=\"1\" class=\"dataframe\">\n",
       "  <thead>\n",
       "    <tr style=\"text-align: right;\">\n",
       "      <th></th>\n",
       "      <th>id</th>\n",
       "      <th>document</th>\n",
       "      <th>label</th>\n",
       "    </tr>\n",
       "  </thead>\n",
       "  <tbody>\n",
       "    <tr>\n",
       "      <th>0</th>\n",
       "      <td>9976970</td>\n",
       "      <td>아 더빙.. 진짜 짜증나네요 목소리</td>\n",
       "      <td>0</td>\n",
       "    </tr>\n",
       "    <tr>\n",
       "      <th>1</th>\n",
       "      <td>3819312</td>\n",
       "      <td>흠...포스터보고 초딩영화줄....오버연기조차 가볍지 않구나</td>\n",
       "      <td>1</td>\n",
       "    </tr>\n",
       "    <tr>\n",
       "      <th>2</th>\n",
       "      <td>10265843</td>\n",
       "      <td>너무재밓었다그래서보는것을추천한다</td>\n",
       "      <td>0</td>\n",
       "    </tr>\n",
       "    <tr>\n",
       "      <th>3</th>\n",
       "      <td>9045019</td>\n",
       "      <td>교도소 이야기구먼 ..솔직히 재미는 없다..평점 조정</td>\n",
       "      <td>0</td>\n",
       "    </tr>\n",
       "    <tr>\n",
       "      <th>4</th>\n",
       "      <td>6483659</td>\n",
       "      <td>사이몬페그의 익살스런 연기가 돋보였던 영화!스파이더맨에서 늙어보이기만 했던 커스틴 ...</td>\n",
       "      <td>1</td>\n",
       "    </tr>\n",
       "  </tbody>\n",
       "</table>\n",
       "</div>"
      ],
      "text/plain": [
       "         id                                           document  label\n",
       "0   9976970                                아 더빙.. 진짜 짜증나네요 목소리      0\n",
       "1   3819312                  흠...포스터보고 초딩영화줄....오버연기조차 가볍지 않구나      1\n",
       "2  10265843                                  너무재밓었다그래서보는것을추천한다      0\n",
       "3   9045019                      교도소 이야기구먼 ..솔직히 재미는 없다..평점 조정      0\n",
       "4   6483659  사이몬페그의 익살스런 연기가 돋보였던 영화!스파이더맨에서 늙어보이기만 했던 커스틴 ...      1"
      ]
     },
     "execution_count": 1,
     "metadata": {},
     "output_type": "execute_result"
    }
   ],
   "source": [
    "import pandas as pd\n",
    "\n",
    "# 데이터를 읽어봅시다. \n",
    "train_data = pd.read_table('~/aiffel/sentiment_classification/data/ratings_train.txt')\n",
    "test_data = pd.read_table('~/aiffel/sentiment_classification/data/ratings_test.txt')\n",
    "\n",
    "train_data.head()"
   ]
  },
  {
   "cell_type": "markdown",
   "id": "dcbdd21f",
   "metadata": {},
   "source": [
    "- `['document']` : 댓글 텍스트가 담긴 시리즈\n",
    "- `['label']` : 이미 x_train 데이터에서 y로 출력될 라벨이 셋팅되어 있었다. ***(하지만 어떤 기준의 라벨인지 모름)***"
   ]
  },
  {
   "cell_type": "markdown",
   "id": "19366dfc",
   "metadata": {},
   "source": [
    "## 2) 데이터로더 구성\n",
    "\n",
    "실습 때 다루었던 IMDB 데이터셋은 텍스트를 가공하여 `imdb.data_loader()` 메서드를 호출하면 숫자 인덱스로 변환된 텍스트와 `word_to_index` 딕셔너리까지 친절하게 제공합니다. 그러나 이번에 다루게 될 nsmc 데이터셋은 전혀 가공되지 않은 텍스트 파일로 이루어져 있습니다. 이것을 읽어서 `imdb.data_loader()`와 동일하게 동작하는 자신만의 `data_loader`를 만들어 보는 것으로 시작합니다. `data_loader` 안에서는 다음을 수행해야 합니다.\n",
    "\n",
    "- 데이터의 중복 제거\n",
    "- NaN 결측치 제거\n",
    "- 한국어 토크나이저로 토큰화\n",
    "- 불용어(Stopwords) 제거\n",
    "- 사전word_to_index 구성\n",
    "- 텍스트 스트링을 사전 인덱스 스트링으로 변환\n",
    "- X_train, y_train, X_test, y_test, word_to_index 리턴\n",
    "\n"
   ]
  },
  {
   "cell_type": "code",
   "execution_count": 2,
   "id": "ef50ebf1",
   "metadata": {},
   "outputs": [],
   "source": [
    "from konlpy.tag import Mecab # 토큰화 하는 라이브러리\n",
    "import numpy as np\n",
    "from collections import Counter\n",
    "\n",
    "tokenizer = Mecab() # 토크나이저 생성 # Mecab()은 형태소를 분석에 사용된다.\n",
    "stopwords = ['의','가','이','은','들','는','좀','잘','걍','과','도','를','으로','자','에','와','한','하다']\n",
    "\n",
    "def load_data(train_data, test_data, num_words=10000):\n",
    "\n",
    "    train_data.drop_duplicates(subset=['document'], inplace=True)       # (1)  \n",
    "    train_data = train_data.dropna(how = 'any') \n",
    "    test_data.drop_duplicates(subset=['document'], inplace=True)\n",
    "    test_data = test_data.dropna(how = 'any') \n",
    "\n",
    "    # (1)\n",
    "    # ['document']는 위의 표에서 댓글의 내용을 나타내는 시리즈(컬럼)이다.\n",
    "    # duplicates() : 중복 여부 불리언 값을 시리즈로 반환한다.\n",
    "    # drop.drop_dupicates() : 제거할 중복 값\n",
    "    # subset = ['col']\n",
    "    # keep='first' 중복 첫번째만 남기고 True를 반환, keep='last'마지막값을 제외하고 모두 True 반환\n",
    "    # kepp=False 는 중복되는 모든 값을 True 반환\n",
    "    # DataFrame.drop_duplicates(subset=['col'], keep='first', inplace=True)\n",
    "    \n",
    "    x_train = [] \n",
    "    for sentence in train_data['document']:\n",
    "        temp_X = tokenizer.morphs(sentence) # 토큰화\n",
    "        temp_X = [word for word in temp_X if not word in stopwords] # 불용어 제거\n",
    "        x_train.append(temp_X)\n",
    "\n",
    "    x_test = []\n",
    "    for sentence in test_data['document']:\n",
    "        temp_X = tokenizer.morphs(sentence) # 토큰화\n",
    "        temp_X = [word for word in temp_X if not word in stopwords] # 불용어 제거\n",
    "        x_test.append(temp_X)\n",
    "    \n",
    "    # x_train에 대한 라벨링 진행\n",
    "    words = np.concatenate(x_train).tolist() \n",
    "    counter = Counter(words)   # (2)\n",
    "    counter = counter.most_common(10000-4)  # (3)   \n",
    "    # pre_vocab = ['<PAD>', '<BOS>', '<UNK>', '<UNUSED>']  # (4)\n",
    "    vocab = [key for key, _ in counter]  # (5)\n",
    "    word_to_index = {word:(index+4) for index, word in enumerate(vocab)}  # (6)\n",
    "    \n",
    "    word_to_index[\"<PAD>\"] = 0\n",
    "    word_to_index[\"<BOS>\"] = 1\n",
    "    word_to_index[\"<UNK>\"] = 2  # unknown\n",
    "    word_to_index[\"<UNUSED>\"] = 3\n",
    "\n",
    "    # (2)\n",
    "    # collections.Counter(list) : list 요소들의 갯수를 딕셔너리 형태로 반환\n",
    "    # collections.Counter(list).most_common(n) : list의 요소를 세어, 최빈값 n개를 리스트에 담긴 튜플형태로 반환\n",
    "    # list.most_common() : 개수가 많은 순으로 정렬된 튜플 배열 리스트를 반환\n",
    "\n",
    "    # (3)\n",
    "    # 10000에서 4를 빼는 이유 : pre_vocab의 4개를 뺀 갯수\n",
    "    \n",
    "    # (4)\n",
    "    # 지금은 vocab과 분리 해 둔다. 후에 vocab앞에 넣어준다.\n",
    "    # 사실 지금 정의해 둘 필요는 없지만 어디에 뭐가 들어갈지 너어무 헷갈려서 미리 써둠\n",
    "\n",
    "    # (5)\n",
    "    # counter에 담긴 두 쌍의 튜플값에서 단어만 가지고 온다.\n",
    "    \n",
    "    # (6)\n",
    "    # enumerate(list) : index와 해당 요소를 반환\n",
    "    # (index+3) : 후에 vocab앞에 pre_vocab을 넣어야 하므로, 인덱스 번호를 4부터 시작하게 맞춰준다.\n",
    "        \n",
    "    def wordlist_to_indexlist(wordlist):\n",
    "        return [word_to_index[word] for word in wordlist if word in word_to_index]   \n",
    "        \n",
    "    x_train = list(map(wordlist_to_indexlist, x_train)) # (7)\n",
    "    x_test = list(map(wordlist_to_indexlist, x_test))\n",
    "\n",
    "    # (7)\n",
    "    # list(map(함수이름, 함수에 들어갈 인자)) : map으로 함수를 실행시켜서 list로 반환\n",
    "    # map(함수이름, 함수에 들어갈 인자) = 함수이름(인자)   \n",
    "    \n",
    "    y_train = np.array(list(train_data['label']))\n",
    "    y_test = np.array(list(test_data['label']))\n",
    "    \n",
    "    \n",
    "    index_to_word = {index:word for word, index in word_to_index.items()}\n",
    "        \n",
    "    return x_train, y_train, x_test, y_test, word_to_index, index_to_word\n",
    "            \n",
    "    \n",
    "x_train, y_train, x_test, y_test, word_to_index, index_to_word = load_data(train_data, test_data)"
   ]
  },
  {
   "cell_type": "markdown",
   "id": "d25678be",
   "metadata": {},
   "source": [
    "- `x_train`, `y_train`, `x_test`, `y_test`, `word_to_index`, `index_to_word`을 모두 설정했다.\n",
    "\n"
   ]
  },
  {
   "cell_type": "code",
   "execution_count": 3,
   "id": "653200b1",
   "metadata": {},
   "outputs": [],
   "source": [
    "# 문장 1개를 활용할 딕셔너리와 함께 주면, 단어 인덱스 리스트 벡터로 변환해 주는 함수입니다. \n",
    "# 단, 모든 문장은 <BOS>로 시작하는 것으로 합니다. \n",
    "def get_encoded_sentence(sentence, word_to_index):\n",
    "    return [word_to_index['<BOS>']]+[word_to_index[word] if word in word_to_index else word_to_index['<UNK>'] for word in sentence.split()]"
   ]
  },
  {
   "cell_type": "markdown",
   "id": "06f0731b",
   "metadata": {},
   "source": [
    "! 매번 **list comprehension**을 사용할때 `[i for i in List if문]`의 형태로만 사용했는데, 예시코드를 보니 **`[List[i] if i in List for i in _]`**의 형태로 사용되어도 같은 결과값이 나온다는 것이 신기했다.\n"
   ]
  },
  {
   "cell_type": "code",
   "execution_count": 4,
   "id": "54d2fc9b",
   "metadata": {},
   "outputs": [],
   "source": [
    "# 여러 개의 문장 리스트를 한꺼번에 단어 인덱스 리스트 벡터로 encode해 주는 함수입니다. \n",
    "def get_encoded_sentences(sentences, word_to_index):\n",
    "    return [get_encoded_sentence(sentence, word_to_index) for sentence in sentences]"
   ]
  },
  {
   "cell_type": "code",
   "execution_count": 5,
   "id": "badccadc",
   "metadata": {},
   "outputs": [
    {
     "name": "stdout",
     "output_type": "stream",
     "text": [
      "냥 매번 긴장 되 고 재 밋 음 ㅠㅠ\n",
      "라벨:  1\n"
     ]
    }
   ],
   "source": [
    "# 숫자 벡터로 encode된 문장을 원래대로 decode하는 함수입니다. \n",
    "def get_decoded_sentence(encoded_sentence, index_to_word):\n",
    "    return ' '.join(index_to_word[index] if index in index_to_word else '<UNK>' for index in encoded_sentence[1:])  #[1:]를 통해 <BOS>를 제외\n",
    "\n",
    "print(get_decoded_sentence(x_train[15], index_to_word))\n",
    "print('라벨: ', y_train[15])  # 1번째 리뷰데이터의 라벨"
   ]
  },
  {
   "cell_type": "code",
   "execution_count": 6,
   "id": "dd306b00",
   "metadata": {},
   "outputs": [],
   "source": [
    "# 여러 개의 숫자 벡터로 encode된 문장을 한꺼번에 원래대로 decode하는 함수입니다. \n",
    "def get_decoded_sentences(encoded_sentences, index_to_word):\n",
    "    return [get_decoded_sentence(encoded_sentence, index_to_word) for encoded_sentence in encoded_sentences]"
   ]
  },
  {
   "cell_type": "markdown",
   "id": "daa98b50",
   "metadata": {},
   "source": [
    "## 3) 모델 구성을 위한 데이터 분석 및 가공\n",
    "- 데이터셋 내 문장 길이 분포\n",
    "- 적절한 최대 문장 길이 지정\n",
    "- keras.preprocessing.sequence.pad_sequences 을 활용한 패딩 추가"
   ]
  },
  {
   "cell_type": "code",
   "execution_count": 7,
   "id": "479440aa",
   "metadata": {},
   "outputs": [
    {
     "name": "stdout",
     "output_type": "stream",
     "text": [
      "문장길이 평균 :  15.26729941281567\n",
      "문장길이 최대 :  116\n",
      "문장길이 표준편차 :  12.314845334104783\n",
      "pad_sequences maxlen :  39\n",
      "전체 문장의 약 0.93퍼센트가 maxlen 설정값 이내에 포함됩니다.\n"
     ]
    }
   ],
   "source": [
    "total_data_text = x_train + x_test\n",
    "# 텍스트데이터 문장길이의 리스트를 생성한 후\n",
    "num_tokens = [len(tokens) for tokens in total_data_text]\n",
    "num_tokens = np.array(num_tokens)\n",
    "# 문장길이의 평균값, 최대값, 표준편차를 계산해 본다. \n",
    "print('문장길이 평균 : ', np.mean(num_tokens))\n",
    "print('문장길이 최대 : ', np.max(num_tokens))\n",
    "print('문장길이 표준편차 : ', np.std(num_tokens))\n",
    "\n",
    "# 예를들어, 최대 길이를 (평균 + 2*표준편차)로 한다면,  \n",
    "max_tokens = np.mean(num_tokens) + 2 * np.std(num_tokens)\n",
    "maxlen = int(max_tokens)\n",
    "print('pad_sequences maxlen : ', maxlen)\n",
    "print('전체 문장의 약 %.2f퍼센트가 maxlen 설정값 이내에 포함됩니다.' % (np.sum(num_tokens < max_tokens) / len(num_tokens)))"
   ]
  },
  {
   "cell_type": "code",
   "execution_count": 8,
   "id": "03025b0f",
   "metadata": {},
   "outputs": [
    {
     "data": {
      "image/png": "[encoded data removed]",
      "text/plain": [
       "<Figure size 432x288 with 1 Axes>"
      ]
     },
     "metadata": {
      "needs_background": "light"
     },
     "output_type": "display_data"
    }
   ],
   "source": [
    "# 리뷰 길이 분포 확인\n",
    "from matplotlib import pyplot as plt\n",
    "\n",
    "plt.hist(num_tokens, bins=50)\n",
    "plt.xlabel('length of samples')\n",
    "plt.ylabel('number of samples')\n",
    "plt.show()\n"
   ]
  },
  {
   "cell_type": "code",
   "execution_count": 9,
   "id": "dc58a1ba",
   "metadata": {},
   "outputs": [
    {
     "name": "stdout",
     "output_type": "stream",
     "text": [
      "(146182, 39)\n"
     ]
    }
   ],
   "source": [
    "import tensorflow as tf\n",
    "\n",
    "x_train = tf.keras.preprocessing.sequence.pad_sequences(x_train,\n",
    "                                                        value=word_to_index[\"<PAD>\"],\n",
    "                                                        padding='post', # 혹은 'pre'\n",
    "                                                        maxlen=maxlen)\n",
    "\n",
    "x_test = tf.keras.preprocessing.sequence.pad_sequences(x_test,\n",
    "                                                       value=word_to_index[\"<PAD>\"],\n",
    "                                                       padding='post', # 혹은 'pre'\n",
    "                                                       maxlen=maxlen)\n",
    "\n",
    "print(x_train.shape)"
   ]
  },
  {
   "cell_type": "markdown",
   "id": "929bdb30",
   "metadata": {},
   "source": [
    "## 4) 모델 구성 및 validation set 구성 \n",
    "\n",
    "모델은 3가지 이상 다양하게 구성하여 실험해 보세요.\n",
    "- validation set은 **5) 모델 학습**때에 분리할 예정이다."
   ]
  },
  {
   "cell_type": "code",
   "execution_count": 10,
   "id": "36d1b90b",
   "metadata": {},
   "outputs": [],
   "source": [
    "import tensorflow as tf"
   ]
  },
  {
   "cell_type": "markdown",
   "id": "92d2f456",
   "metadata": {},
   "source": [
    "### RNN 모델"
   ]
  },
  {
   "cell_type": "code",
   "execution_count": 11,
   "id": "2b3dd51a",
   "metadata": {},
   "outputs": [
    {
     "name": "stdout",
     "output_type": "stream",
     "text": [
      "Model: \"sequential\"\n",
      "_________________________________________________________________\n",
      "Layer (type)                 Output Shape              Param #   \n",
      "=================================================================\n",
      "embedding (Embedding)        (None, None, 4)           40000     \n",
      "_________________________________________________________________\n",
      "lstm (LSTM)                  (None, 28)                3696      \n",
      "_________________________________________________________________\n",
      "dense (Dense)                (None, 12)                348       \n",
      "_________________________________________________________________\n",
      "dense_1 (Dense)              (None, 1)                 13        \n",
      "=================================================================\n",
      "Total params: 44,057\n",
      "Trainable params: 44,057\n",
      "Non-trainable params: 0\n",
      "_________________________________________________________________\n"
     ]
    }
   ],
   "source": [
    "# 임베딩사이즈는 (1, 10000, 4)이다.\n",
    "# 단어사전의 갯수 10000개, 단어 하나당 4차원 벡터\n",
    "# LSTM은 3차원을 입력값으로 받으므로, 3차원 배열로 임베딩 해준다.\n",
    "\n",
    "rnn_model = tf.keras.Sequential()\n",
    "rnn_model.add(tf.keras.layers.Embedding(10000, 4, input_shape=(None,)))\n",
    "rnn_model.add(tf.keras.layers.LSTM(28))   \n",
    "rnn_model.add(tf.keras.layers.Dense(12, activation='relu'))\n",
    "rnn_model.add(tf.keras.layers.Dense(1, activation='sigmoid'))  # 최종 출력은 긍정/부정을 나타내는 1dim 입니다.\n",
    "\n",
    "rnn_model.summary()"
   ]
  },
  {
   "cell_type": "markdown",
   "id": "ac2f2edc",
   "metadata": {},
   "source": [
    "### CNN 모델"
   ]
  },
  {
   "cell_type": "code",
   "execution_count": 12,
   "id": "7b0c023b",
   "metadata": {},
   "outputs": [
    {
     "name": "stdout",
     "output_type": "stream",
     "text": [
      "Model: \"sequential_1\"\n",
      "_________________________________________________________________\n",
      "Layer (type)                 Output Shape              Param #   \n",
      "=================================================================\n",
      "embedding_1 (Embedding)      (None, None, 4)           40000     \n",
      "_________________________________________________________________\n",
      "conv1d (Conv1D)              (None, None, 32)          416       \n",
      "_________________________________________________________________\n",
      "max_pooling1d (MaxPooling1D) (None, None, 32)          0         \n",
      "_________________________________________________________________\n",
      "conv1d_1 (Conv1D)            (None, None, 32)          3104      \n",
      "_________________________________________________________________\n",
      "global_max_pooling1d (Global (None, 32)                0         \n",
      "_________________________________________________________________\n",
      "dense_2 (Dense)              (None, 16)                528       \n",
      "_________________________________________________________________\n",
      "dense_3 (Dense)              (None, 1)                 17        \n",
      "=================================================================\n",
      "Total params: 44,065\n",
      "Trainable params: 44,065\n",
      "Non-trainable params: 0\n",
      "_________________________________________________________________\n"
     ]
    }
   ],
   "source": [
    "cnn_model = tf.keras.Sequential()\n",
    "cnn_model.add(tf.keras.layers.Embedding(10000, 4, input_shape=(None,)))\n",
    "cnn_model.add(tf.keras.layers.Conv1D(32, 3, activation='relu'))\n",
    "cnn_model.add(tf.keras.layers.MaxPooling1D(10))\n",
    "cnn_model.add(tf.keras.layers.Conv1D(32, 3, activation='relu'))\n",
    "cnn_model.add(tf.keras.layers.GlobalMaxPooling1D())\n",
    "cnn_model.add(tf.keras.layers.Dense(16, activation='relu'))\n",
    "cnn_model.add(tf.keras.layers.Dense(1, activation='sigmoid'))  # 최종 출력은 긍정/부정을 나타내는 1dim 입니다.\n",
    "\n",
    "cnn_model.summary()"
   ]
  },
  {
   "cell_type": "markdown",
   "id": "bdf64980",
   "metadata": {},
   "source": [
    "### GlobalMaxPooling1D() 레이어 하나만 사용하는 방법\n",
    "\n",
    "전체 문장 중에서 <u>단 하나의 가장 중요한 단어만 피처로 추출</u>하여 그것으로 문장의 **긍정/부정**을 평가하는 방식"
   ]
  },
  {
   "cell_type": "code",
   "execution_count": 13,
   "id": "df407590",
   "metadata": {},
   "outputs": [
    {
     "name": "stdout",
     "output_type": "stream",
     "text": [
      "Model: \"sequential_2\"\n",
      "_________________________________________________________________\n",
      "Layer (type)                 Output Shape              Param #   \n",
      "=================================================================\n",
      "embedding_2 (Embedding)      (None, None, 32)          320000    \n",
      "_________________________________________________________________\n",
      "global_max_pooling1d_1 (Glob (None, 32)                0         \n",
      "_________________________________________________________________\n",
      "dense_4 (Dense)              (None, 8)                 264       \n",
      "_________________________________________________________________\n",
      "dense_5 (Dense)              (None, 1)                 9         \n",
      "=================================================================\n",
      "Total params: 320,273\n",
      "Trainable params: 320,273\n",
      "Non-trainable params: 0\n",
      "_________________________________________________________________\n"
     ]
    }
   ],
   "source": [
    "GMP_model = tf.keras.Sequential()\n",
    "GMP_model.add(tf.keras.layers.Embedding(10000, 32, input_shape=(None,)))\n",
    "GMP_model.add(tf.keras.layers.GlobalMaxPooling1D())\n",
    "GMP_model.add(tf.keras.layers.Dense(8, activation='relu'))\n",
    "GMP_model.add(tf.keras.layers.Dense(1, activation='sigmoid'))  # 최종 출력은 긍정/부정을 나타내는 1dim 입니다.\n",
    "\n",
    "GMP_model.summary()"
   ]
  },
  {
   "cell_type": "markdown",
   "id": "4bd4b0e2",
   "metadata": {},
   "source": [
    "## 5) 모델 훈련 개시"
   ]
  },
  {
   "cell_type": "code",
   "execution_count": 14,
   "id": "a99af7e9",
   "metadata": {},
   "outputs": [
    {
     "name": "stdout",
     "output_type": "stream",
     "text": [
      "학습용 데이터 전체 개수 : 146182\n",
      "학습용 데이터 개수 ; 102327.4\n",
      "검증용 데이터 개수 : 43854.6\n"
     ]
    }
   ],
   "source": [
    "print('학습용 데이터 전체 개수 :', len(x_train))\n",
    "print('학습용 데이터 개수 ;', len(x_train)*0.7)\n",
    "print('검증용 데이터 개수 :', len(x_train)*0.3)"
   ]
  },
  {
   "cell_type": "markdown",
   "id": "129054fd",
   "metadata": {},
   "source": [
    "- **x_train**과 **x_val**을 *7:3 비율*로 나누어서 학습과 검증을 반복하도록 설정\n",
    "\n",
    "모델을 학습하기에 앞서, **model.compile()** 메서드를 통해서 학습방식에 대한 설정을 해야한다.\n",
    "- **optimizer(정규화기)** : 최적화 알고리즘 설정\n",
    "- **loss(손실함수)** : 최적화에 사용되는 목적 함수\n",
    "- **metrics(평가지표)** : <u>분류에서는 accuracy</u>, 회귀에서는 mse, rmse, r2, mae, mspe, mape, msle 등을 사용"
   ]
  },
  {
   "cell_type": "markdown",
   "id": "c2def18c",
   "metadata": {},
   "source": [
    "- **verbose = 학습 중 출력되는 문구를 설정**\n",
    "    - 0 : 아무 것도 출력하지 않는다.\n",
    "    - 1 : 훈련의 진행도를 보여주는 진행 막대를 보여준다.\n",
    "    - 2 : 미니 배치마다 손실 정보를 출력한다."
   ]
  },
  {
   "cell_type": "code",
   "execution_count": 15,
   "id": "882cf929",
   "metadata": {},
   "outputs": [
    {
     "name": "stdout",
     "output_type": "stream",
     "text": [
      "Epoch 1/10\n",
      "200/200 [==============================] - 5s 8ms/step - loss: 0.5605 - accuracy: 0.6699 - val_loss: 0.3997 - val_accuracy: 0.8237\n",
      "Epoch 2/10\n",
      "200/200 [==============================] - 1s 6ms/step - loss: 0.3585 - accuracy: 0.8441 - val_loss: 0.3719 - val_accuracy: 0.8344\n",
      "Epoch 3/10\n",
      "200/200 [==============================] - 1s 6ms/step - loss: 0.3281 - accuracy: 0.8607 - val_loss: 0.3696 - val_accuracy: 0.8382\n",
      "Epoch 4/10\n",
      "200/200 [==============================] - 1s 6ms/step - loss: 0.3150 - accuracy: 0.8669 - val_loss: 0.3652 - val_accuracy: 0.8409\n",
      "Epoch 5/10\n",
      "200/200 [==============================] - 1s 6ms/step - loss: 0.3068 - accuracy: 0.8713 - val_loss: 0.3640 - val_accuracy: 0.8420\n",
      "Epoch 6/10\n",
      "200/200 [==============================] - 1s 6ms/step - loss: 0.3006 - accuracy: 0.8731 - val_loss: 0.3664 - val_accuracy: 0.8412\n",
      "Epoch 7/10\n",
      "200/200 [==============================] - 1s 6ms/step - loss: 0.2957 - accuracy: 0.8761 - val_loss: 0.3667 - val_accuracy: 0.8419\n",
      "Epoch 8/10\n",
      "200/200 [==============================] - 1s 6ms/step - loss: 0.2899 - accuracy: 0.8783 - val_loss: 0.3691 - val_accuracy: 0.8407\n",
      "Epoch 9/10\n",
      "200/200 [==============================] - 1s 6ms/step - loss: 0.2833 - accuracy: 0.8802 - val_loss: 0.3684 - val_accuracy: 0.8408\n",
      "Epoch 10/10\n",
      "200/200 [==============================] - 1s 6ms/step - loss: 0.2782 - accuracy: 0.8809 - val_loss: 0.3859 - val_accuracy: 0.8373\n"
     ]
    }
   ],
   "source": [
    "rnn_model.compile(optimizer='adam',loss='binary_crossentropy', metrics=['accuracy'])\n",
    "rnn_history = rnn_model.fit(x_train, y_train, epochs=10, batch_size=512, validation_split=0.3, verbose=1)"
   ]
  },
  {
   "cell_type": "code",
   "execution_count": 16,
   "id": "c99c347a",
   "metadata": {},
   "outputs": [
    {
     "name": "stdout",
     "output_type": "stream",
     "text": [
      "Epoch 1/10\n",
      "200/200 [==============================] - 3s 6ms/step - loss: 0.5201 - accuracy: 0.7267 - val_loss: 0.3839 - val_accuracy: 0.8293\n",
      "Epoch 2/10\n",
      "200/200 [==============================] - 1s 5ms/step - loss: 0.3453 - accuracy: 0.8529 - val_loss: 0.3643 - val_accuracy: 0.8409\n",
      "Epoch 3/10\n",
      "200/200 [==============================] - 1s 5ms/step - loss: 0.3116 - accuracy: 0.8698 - val_loss: 0.3622 - val_accuracy: 0.8434\n",
      "Epoch 4/10\n",
      "200/200 [==============================] - 1s 5ms/step - loss: 0.2907 - accuracy: 0.8798 - val_loss: 0.3633 - val_accuracy: 0.8438\n",
      "Epoch 5/10\n",
      "200/200 [==============================] - 1s 5ms/step - loss: 0.2748 - accuracy: 0.8874 - val_loss: 0.3719 - val_accuracy: 0.8433\n",
      "Epoch 6/10\n",
      "200/200 [==============================] - 1s 5ms/step - loss: 0.2598 - accuracy: 0.8945 - val_loss: 0.3832 - val_accuracy: 0.8411\n",
      "Epoch 7/10\n",
      "200/200 [==============================] - 1s 5ms/step - loss: 0.2471 - accuracy: 0.9013 - val_loss: 0.4016 - val_accuracy: 0.8368\n",
      "Epoch 8/10\n",
      "200/200 [==============================] - 1s 5ms/step - loss: 0.2342 - accuracy: 0.9081 - val_loss: 0.4070 - val_accuracy: 0.8379\n",
      "Epoch 9/10\n",
      "200/200 [==============================] - 1s 5ms/step - loss: 0.2229 - accuracy: 0.9138 - val_loss: 0.4249 - val_accuracy: 0.8360\n",
      "Epoch 10/10\n",
      "200/200 [==============================] - 1s 5ms/step - loss: 0.2123 - accuracy: 0.9189 - val_loss: 0.4368 - val_accuracy: 0.8325\n"
     ]
    }
   ],
   "source": [
    "cnn_model.compile(optimizer='adam',loss='binary_crossentropy', metrics=['accuracy'])\n",
    "cnn_history = cnn_model.fit(x_train, y_train, epochs=10, batch_size=512, validation_split=0.3, verbose=1)"
   ]
  },
  {
   "cell_type": "code",
   "execution_count": 17,
   "id": "dee4cf25",
   "metadata": {},
   "outputs": [
    {
     "name": "stdout",
     "output_type": "stream",
     "text": [
      "Epoch 1/10\n",
      "200/200 [==============================] - 1s 4ms/step - loss: 0.5672 - accuracy: 0.7536 - val_loss: 0.4170 - val_accuracy: 0.8198\n",
      "Epoch 2/10\n",
      "200/200 [==============================] - 1s 4ms/step - loss: 0.3595 - accuracy: 0.8457 - val_loss: 0.3605 - val_accuracy: 0.8403\n",
      "Epoch 3/10\n",
      "200/200 [==============================] - 1s 4ms/step - loss: 0.3060 - accuracy: 0.8722 - val_loss: 0.3513 - val_accuracy: 0.8471\n",
      "Epoch 4/10\n",
      "200/200 [==============================] - 1s 4ms/step - loss: 0.2734 - accuracy: 0.8886 - val_loss: 0.3539 - val_accuracy: 0.8476\n",
      "Epoch 5/10\n",
      "200/200 [==============================] - 1s 4ms/step - loss: 0.2477 - accuracy: 0.9015 - val_loss: 0.3626 - val_accuracy: 0.8464\n",
      "Epoch 6/10\n",
      "200/200 [==============================] - 1s 4ms/step - loss: 0.2253 - accuracy: 0.9116 - val_loss: 0.3745 - val_accuracy: 0.8453\n",
      "Epoch 7/10\n",
      "200/200 [==============================] - 1s 4ms/step - loss: 0.2053 - accuracy: 0.9212 - val_loss: 0.3898 - val_accuracy: 0.8435\n",
      "Epoch 8/10\n",
      "200/200 [==============================] - 1s 4ms/step - loss: 0.1869 - accuracy: 0.9300 - val_loss: 0.4076 - val_accuracy: 0.8415\n",
      "Epoch 9/10\n",
      "200/200 [==============================] - 1s 4ms/step - loss: 0.1696 - accuracy: 0.9385 - val_loss: 0.4282 - val_accuracy: 0.8392\n",
      "Epoch 10/10\n",
      "200/200 [==============================] - 1s 4ms/step - loss: 0.1535 - accuracy: 0.9454 - val_loss: 0.4496 - val_accuracy: 0.8368\n"
     ]
    }
   ],
   "source": [
    "GMP_model.compile(optimizer='adam',loss='binary_crossentropy', metrics=['accuracy'])\n",
    "GMP_history = GMP_model.fit(x_train, y_train, epochs=10, batch_size=512, validation_split=0.3, verbose=1)"
   ]
  },
  {
   "cell_type": "markdown",
   "id": "3b8e1200",
   "metadata": {},
   "source": [
    "## 6) Loss, Accuracy 그래프 시각화"
   ]
  },
  {
   "cell_type": "markdown",
   "id": "184c8367",
   "metadata": {},
   "source": [
    "### RNN"
   ]
  },
  {
   "cell_type": "code",
   "execution_count": 18,
   "id": "c2493fe6",
   "metadata": {},
   "outputs": [
    {
     "name": "stdout",
     "output_type": "stream",
     "text": [
      "dict_keys(['loss', 'accuracy', 'val_loss', 'val_accuracy'])\n"
     ]
    },
    {
     "data": {
      "image/png": "[encoded data removed]",
      "text/plain": [
       "<Figure size 432x288 with 1 Axes>"
      ]
     },
     "metadata": {
      "needs_background": "light"
     },
     "output_type": "display_data"
    }
   ],
   "source": [
    "rnn_history_dict = rnn_history.history\n",
    "print(rnn_history_dict.keys()) # epoch에 따른 그래프를 그려볼 수 있는 항목들\n",
    "\n",
    "import matplotlib.pyplot as plt\n",
    "\n",
    "acc = rnn_history_dict['accuracy']\n",
    "val_acc = rnn_history_dict['val_accuracy']\n",
    "loss = rnn_history_dict['loss']\n",
    "val_loss = rnn_history_dict['val_loss']\n",
    "\n",
    "epochs = range(1, len(acc) + 1)\n",
    "\n",
    "plt.plot(epochs, loss, 'r', label='Training loss')\n",
    "plt.plot(epochs, val_loss, 'b', label='Validation loss')\n",
    "plt.title('Training and validation loss')\n",
    "plt.xlabel('Epochs')\n",
    "plt.ylabel('Loss')\n",
    "plt.legend()\n",
    "\n",
    "plt.show()"
   ]
  },
  {
   "cell_type": "markdown",
   "id": "8e94b772",
   "metadata": {},
   "source": [
    "- 오버피팅이 일어났다..."
   ]
  },
  {
   "cell_type": "markdown",
   "id": "64a46e38",
   "metadata": {},
   "source": [
    "### CNN"
   ]
  },
  {
   "cell_type": "code",
   "execution_count": 19,
   "id": "8f1325f3",
   "metadata": {},
   "outputs": [
    {
     "name": "stdout",
     "output_type": "stream",
     "text": [
      "dict_keys(['loss', 'accuracy', 'val_loss', 'val_accuracy'])\n"
     ]
    },
    {
     "data": {
      "image/png": "[encoded data removed]",
      "text/plain": [
       "<Figure size 432x288 with 1 Axes>"
      ]
     },
     "metadata": {
      "needs_background": "light"
     },
     "output_type": "display_data"
    }
   ],
   "source": [
    "cnn_history_dict = cnn_history.history\n",
    "print(cnn_history_dict.keys()) # epoch에 따른 그래프를 그려볼 수 있는 항목들\n",
    "\n",
    "import matplotlib.pyplot as plt\n",
    "\n",
    "acc = cnn_history_dict['accuracy']\n",
    "val_acc = cnn_history_dict['val_accuracy']\n",
    "loss = cnn_history_dict['loss']\n",
    "val_loss = cnn_history_dict['val_loss']\n",
    "\n",
    "epochs = range(1, len(acc) + 1)\n",
    "\n",
    "plt.plot(epochs, loss, 'r', label='Training loss')\n",
    "plt.plot(epochs, val_loss, 'b', label='Validation loss')\n",
    "plt.title('Training and validation loss')\n",
    "plt.xlabel('Epochs')\n",
    "plt.ylabel('Loss')\n",
    "plt.legend()\n",
    "\n",
    "plt.show()"
   ]
  },
  {
   "cell_type": "markdown",
   "id": "4b32a0f5",
   "metadata": {},
   "source": [
    "- 또 오버피팅...^^"
   ]
  },
  {
   "cell_type": "markdown",
   "id": "d2b4ed6e",
   "metadata": {},
   "source": [
    "### GlobalMaxPooling1D()"
   ]
  },
  {
   "cell_type": "code",
   "execution_count": 20,
   "id": "f64144a8",
   "metadata": {},
   "outputs": [
    {
     "name": "stdout",
     "output_type": "stream",
     "text": [
      "dict_keys(['loss', 'accuracy', 'val_loss', 'val_accuracy'])\n"
     ]
    },
    {
     "data": {
      "image/png": "[encoded data removed]",
      "text/plain": [
       "<Figure size 432x288 with 1 Axes>"
      ]
     },
     "metadata": {
      "needs_background": "light"
     },
     "output_type": "display_data"
    }
   ],
   "source": [
    "GMP_history_dict = GMP_history.history\n",
    "print(GMP_history_dict.keys()) # epoch에 따른 그래프를 그려볼 수 있는 항목들\n",
    "\n",
    "import matplotlib.pyplot as plt\n",
    "\n",
    "acc = GMP_history_dict['accuracy']\n",
    "val_acc = GMP_history_dict['val_accuracy']\n",
    "loss = GMP_history_dict['loss']\n",
    "val_loss = GMP_history_dict['val_loss']\n",
    "\n",
    "epochs = range(1, len(acc) + 1)\n",
    "\n",
    "plt.plot(epochs, loss, 'r', label='Training loss')\n",
    "plt.plot(epochs, val_loss, 'b', label='Validation loss')\n",
    "plt.title('Training and validation loss')\n",
    "plt.xlabel('Epochs')\n",
    "plt.ylabel('Loss')\n",
    "plt.legend()\n",
    "\n",
    "plt.show()"
   ]
  },
  {
   "cell_type": "markdown",
   "id": "69ce692e",
   "metadata": {},
   "source": [
    "- 또 또 오버피팅..."
   ]
  },
  {
   "cell_type": "code",
   "execution_count": 21,
   "id": "b947e051",
   "metadata": {},
   "outputs": [
    {
     "name": "stdout",
     "output_type": "stream",
     "text": [
      "1537/1537 - 3s - loss: 0.3895 - accuracy: 0.8356\n",
      "1537/1537 - 3s - loss: 0.4343 - accuracy: 0.8327\n",
      "1537/1537 - 2s - loss: 0.4547 - accuracy: 0.8342\n"
     ]
    }
   ],
   "source": [
    "results_1 = rnn_model.evaluate(x_test,  y_test, verbose=2)\n",
    "results_2 = cnn_model.evaluate(x_test,  y_test, verbose=2)\n",
    "results_3 = GMP_model.evaluate(x_test,  y_test, verbose=2)"
   ]
  },
  {
   "cell_type": "markdown",
   "id": "399fe1a3",
   "metadata": {},
   "source": [
    "## 7) 학습된 Embedding 레이어 분석"
   ]
  },
  {
   "cell_type": "markdown",
   "id": "d4adc397",
   "metadata": {},
   "source": [
    "```\n",
    "$ mkdir -p ~/aiffel/sentiment_classification/data\n",
    "$ pip list | grep gensim\n",
    "```"
   ]
  },
  {
   "cell_type": "markdown",
   "id": "0a6da635",
   "metadata": {},
   "source": [
    "### RNN"
   ]
  },
  {
   "cell_type": "code",
   "execution_count": 22,
   "id": "96cdbb01",
   "metadata": {
    "scrolled": true
   },
   "outputs": [
    {
     "name": "stdout",
     "output_type": "stream",
     "text": [
      "(10000, 4)\n"
     ]
    }
   ],
   "source": [
    "rnn_embedding_layer = rnn_model.layers[0]\n",
    "rnn_weights = rnn_embedding_layer.get_weights()[0]\n",
    "\n",
    "# shape: (vocab_size, embedding_dim)\n",
    "print(rnn_weights.shape)    "
   ]
  },
  {
   "cell_type": "code",
   "execution_count": 23,
   "id": "ea719af4",
   "metadata": {},
   "outputs": [
    {
     "data": {
      "text/plain": [
       "7"
      ]
     },
     "execution_count": 23,
     "metadata": {},
     "output_type": "execute_result"
    }
   ],
   "source": [
    "import os\n",
    "\n",
    "vocab_size = rnn_weights.shape[0]\n",
    "rnn_word_vector_dim = rnn_weights.shape[1]\n",
    "\n",
    "# 학습한 Embedding 파라미터를 파일에 써서 저장합니다. \n",
    "word2vec_file_path = os.getenv('HOME')+'/aiffel/sentiment_classification/data/word2vec.txt'\n",
    "f = open(word2vec_file_path, 'w')\n",
    "f.write('{} {}\\n'.format(vocab_size-4, rnn_word_vector_dim))"
   ]
  },
  {
   "cell_type": "code",
   "execution_count": 24,
   "id": "ae03982e",
   "metadata": {},
   "outputs": [],
   "source": [
    "# 단어 개수(에서 특수문자 4개는 제외하고)만큼의 워드 벡터를 파일에 기록합니다. \n",
    "rnn_vectors = rnn_model.get_weights()[0]\n",
    "\n",
    "for i in range(4, vocab_size):\n",
    "    f.write('{} {}\\n'.format(index_to_word[i], ' '.join(map(str, list(rnn_vectors[i, :])))))\n",
    "f.close()"
   ]
  },
  {
   "cell_type": "markdown",
   "id": "1d134945",
   "metadata": {},
   "source": [
    "### CNN"
   ]
  },
  {
   "cell_type": "code",
   "execution_count": 25,
   "id": "6dbdedc2",
   "metadata": {},
   "outputs": [
    {
     "name": "stdout",
     "output_type": "stream",
     "text": [
      "(10000, 4)\n"
     ]
    }
   ],
   "source": [
    "cnn_embedding_layer = cnn_model.layers[0]\n",
    "cnn_weights = cnn_embedding_layer.get_weights()[0]\n",
    "\n",
    "# shape: (vocab_size, embedding_dim)\n",
    "print(cnn_weights.shape)    "
   ]
  },
  {
   "cell_type": "code",
   "execution_count": 26,
   "id": "46655440",
   "metadata": {},
   "outputs": [],
   "source": [
    "vocab_size = rnn_weights.shape[0]\n",
    "cnn_word_vector_dim = cnn_weights.shape[1]\n",
    "\n",
    "# 학습한 Embedding 파라미터를 파일에 써서 저장합니다. \n",
    "word2vec_file_path = os.getenv('HOME')+'/aiffel/sentiment_classification/data/word2vec.txt'\n",
    "f = open(word2vec_file_path, 'w')"
   ]
  },
  {
   "cell_type": "code",
   "execution_count": 27,
   "id": "8c5dafd4",
   "metadata": {},
   "outputs": [],
   "source": [
    "# 단어 개수(에서 특수문자 4개는 제외하고)만큼의 워드 벡터를 파일에 기록합니다. \n",
    "cnn_vectors = cnn_model.get_weights()[0]\n",
    "\n",
    "for i in range(4, vocab_size):\n",
    "    f.write('{} {}\\n'.format(index_to_word[i], ' '.join(map(str, list(cnn_vectors[i, :])))))\n",
    "f.close()"
   ]
  },
  {
   "cell_type": "markdown",
   "id": "6fa1408f",
   "metadata": {},
   "source": [
    "### GlobalMaxPooling1D()"
   ]
  },
  {
   "cell_type": "code",
   "execution_count": 28,
   "id": "f98d3b0d",
   "metadata": {},
   "outputs": [
    {
     "name": "stdout",
     "output_type": "stream",
     "text": [
      "(10000, 32)\n"
     ]
    }
   ],
   "source": [
    "GMP_embedding_layer = GMP_model.layers[0]\n",
    "GMP_weights = GMP_embedding_layer.get_weights()[0]\n",
    "\n",
    "# shape: (vocab_size, embedding_dim)\n",
    "print(GMP_weights.shape)    "
   ]
  },
  {
   "cell_type": "code",
   "execution_count": 29,
   "id": "fd37cace",
   "metadata": {},
   "outputs": [],
   "source": [
    "vocab_size = GMP_weights.shape[0]\n",
    "GMP_word_vector_dim = GMP_weights.shape[1]\n",
    "\n",
    "# 학습한 Embedding 파라미터를 파일에 써서 저장합니다. \n",
    "word2vec_file_path = os.getenv('HOME')+'/aiffel/sentiment_classification/data/word2vec.txt'\n",
    "f = open(word2vec_file_path, 'w')"
   ]
  },
  {
   "cell_type": "code",
   "execution_count": 30,
   "id": "3ad53bce",
   "metadata": {},
   "outputs": [],
   "source": [
    "# 단어 개수(에서 특수문자 4개는 제외하고)만큼의 워드 벡터를 파일에 기록합니다. \n",
    "GMP_vectors = GMP_model.get_weights()[0]\n",
    "\n",
    "for i in range(4, vocab_size):\n",
    "    f.write('{} {}\\n'.format(index_to_word[i], ' '.join(map(str, list(GMP_vectors[i, :])))))\n",
    "f.close()"
   ]
  },
  {
   "cell_type": "markdown",
   "id": "a41fe7c5",
   "metadata": {},
   "source": [
    "## 8) 한국어 Word2Vec 임베딩 활용하여 성능 개선 \n",
    "\n",
    "한국어 Word2Vec은 다음 경로에서 구할 수 있습니다.\n",
    "\n",
    "- [Pre-trained word vectors of 30+ languages](https://github.com/Kyubyong/wordvectors)\n",
    "\n",
    "위 링크에서 적절한 ko.bin을 찾아 이용하세요. 그리고 gensim 버전을 3.x.x로 낮춰야 오류가 나지 않습니다."
   ]
  },
  {
   "cell_type": "code",
   "execution_count": 31,
   "id": "ba168a46",
   "metadata": {
    "scrolled": true
   },
   "outputs": [
    {
     "name": "stdout",
     "output_type": "stream",
     "text": [
      "absl-py==0.12.0\r\n",
      "aiohttp @ file:///home/conda/feedstock_root/build_artifacts/aiohttp_1637087032947/work\r\n",
      "aiosignal @ file:///home/conda/feedstock_root/build_artifacts/aiosignal_1636093929600/work\r\n",
      "albumentations==1.1.0\r\n",
      "antlr4-python3-runtime==4.8\r\n",
      "anyio @ file:///home/conda/feedstock_root/build_artifacts/anyio_1637703202493/work/dist\r\n",
      "appdirs==1.4.4\r\n",
      "argon2-cffi @ file:///home/conda/feedstock_root/build_artifacts/argon2-cffi_1636021379509/work\r\n",
      "astunparse==1.6.3\r\n",
      "async-generator==1.10\r\n",
      "async-timeout @ file:///home/conda/feedstock_root/build_artifacts/async-timeout_1637092647930/work\r\n",
      "attrs @ file:///home/conda/feedstock_root/build_artifacts/attrs_1620387926260/work\r\n",
      "audioread==2.1.9\r\n",
      "backcall @ file:///home/conda/feedstock_root/build_artifacts/backcall_1592338393461/work\r\n",
      "backports.functools-lru-cache @ file:///home/conda/feedstock_root/build_artifacts/backports.functools_lru_cache_1618230623929/work\r\n",
      "beautifulsoup4==4.6.0\r\n",
      "black==21.12b0\r\n",
      "bleach @ file:///home/conda/feedstock_root/build_artifacts/bleach_1629908509068/work\r\n",
      "branca==0.4.2\r\n",
      "brotlipy @ file:///home/conda/feedstock_root/build_artifacts/brotlipy_1636012194889/work\r\n",
      "cachetools==4.2.4\r\n",
      "certifi==2021.10.8\r\n",
      "cffi @ file:///home/conda/feedstock_root/build_artifacts/cffi_1636046055389/work\r\n",
      "chardet==3.0.4\r\n",
      "charset-normalizer @ file:///home/conda/feedstock_root/build_artifacts/charset-normalizer_1637858084653/work\r\n",
      "clang==5.0\r\n",
      "click==8.0.3\r\n",
      "click-plugins==1.1.1\r\n",
      "cligj==0.7.2\r\n",
      "cloudpickle==2.0.0\r\n",
      "cmake==3.21.3\r\n",
      "colorama @ file:///home/conda/feedstock_root/build_artifacts/colorama_1602866480661/work\r\n",
      "conda==4.11.0\r\n",
      "conda-build==3.21.7\r\n",
      "conda-package-handling @ file:///home/conda/feedstock_root/build_artifacts/conda-package-handling_1636021710069/work\r\n",
      "cryptography @ file:///home/conda/feedstock_root/build_artifacts/cryptography_1637648690905/work\r\n",
      "cssselect==1.1.0\r\n",
      "customized-konlpy==0.0.64\r\n",
      "cycler==0.11.0\r\n",
      "Cython==0.29.24\r\n",
      "dataclasses==0.6\r\n",
      "datasets==1.14.0\r\n",
      "debugpy @ file:///home/conda/feedstock_root/build_artifacts/debugpy_1636043249011/work\r\n",
      "decorator==4.4.2\r\n",
      "defusedxml @ file:///home/conda/feedstock_root/build_artifacts/defusedxml_1615232257335/work\r\n",
      "delayed==0.11.0b1\r\n",
      "Deprecated==1.2.13\r\n",
      "dill==0.3.4\r\n",
      "dlib==19.22.1\r\n",
      "docutils==0.18.1\r\n",
      "editdistance==0.6.0\r\n",
      "efficientnet==1.0.0\r\n",
      "efficientnet-pytorch==0.7.1\r\n",
      "entrypoints @ file:///home/conda/feedstock_root/build_artifacts/entrypoints_1605121927639/work/dist/entrypoints-0.3-py2.py3-none-any.whl\r\n",
      "essential-generators==1.0\r\n",
      "face-recognition==1.3.0\r\n",
      "face-recognition-models==0.3.0\r\n",
      "feedfinder2==0.0.4\r\n",
      "feedparser==6.0.8\r\n",
      "filelock @ file:///home/conda/feedstock_root/build_artifacts/filelock_1637070794272/work\r\n",
      "Fiona==1.8.20\r\n",
      "Flask==2.0.2\r\n",
      "flask-ngrok==0.0.25\r\n",
      "flatbuffers==1.12\r\n",
      "folium==0.12.1\r\n",
      "fonttools==4.28.3\r\n",
      "frozenlist @ file:///home/conda/feedstock_root/build_artifacts/frozenlist_1636286801527/work\r\n",
      "fsspec==2021.11.1\r\n",
      "future==0.18.2\r\n",
      "fvcore==0.1.5.post20211023\r\n",
      "gast==0.4.0\r\n",
      "gensim==3.8.3\r\n",
      "geopandas==0.10.1\r\n",
      "glob2==0.7\r\n",
      "google-api-core==2.2.2\r\n",
      "google-api-python-client==2.26.1\r\n",
      "google-auth==2.3.3\r\n",
      "google-auth-httplib2==0.1.0\r\n",
      "google-auth-oauthlib==0.4.6\r\n",
      "google-cloud-vision==2.5.0\r\n",
      "google-pasta==0.2.0\r\n",
      "googleapis-common-protos==1.53.0\r\n",
      "googletrans==3.0.0\r\n",
      "grpcio==1.42.0\r\n",
      "grpcio-status==1.42.0\r\n",
      "h11==0.9.0\r\n",
      "h2==3.2.0\r\n",
      "h3==3.7.3\r\n",
      "h5py==3.1.0\r\n",
      "hiredis==2.0.0\r\n",
      "hpack==3.0.0\r\n",
      "hstspreload==2021.12.1\r\n",
      "httpcore==0.9.1\r\n",
      "httplib2==0.20.2\r\n",
      "httpx==0.13.3\r\n",
      "huggingface-hub==0.0.19\r\n",
      "hydra-core==1.1.1\r\n",
      "hyperframe==5.2.0\r\n",
      "idna==2.10\r\n",
      "imageio==2.9.0\r\n",
      "imageio-ffmpeg==0.4.5\r\n",
      "imantics==0.1.12\r\n",
      "imbalanced-learn==0.8.1\r\n",
      "imgaug==0.4.0\r\n",
      "implicit==0.4.8\r\n",
      "importlib-metadata @ file:///home/conda/feedstock_root/build_artifacts/importlib-metadata_1636431527844/work\r\n",
      "importlib-resources @ file:///home/conda/feedstock_root/build_artifacts/importlib_resources_1635615662634/work\r\n",
      "iopath==0.1.9\r\n",
      "ipykernel @ file:///home/conda/feedstock_root/build_artifacts/ipykernel_1638555504864/work/dist/ipykernel-6.6.0-py3-none-any.whl\r\n",
      "ipython==7.28.0\r\n",
      "ipython-genutils==0.2.0\r\n",
      "ipywidgets @ file:///home/conda/feedstock_root/build_artifacts/ipywidgets_1631590360471/work\r\n",
      "itsdangerous==2.0.1\r\n",
      "jedi @ file:///home/conda/feedstock_root/build_artifacts/jedi_1637175083648/work\r\n",
      "jieba3k==0.35.1\r\n",
      "Jinja2 @ file:///home/conda/feedstock_root/build_artifacts/jinja2_1636510082894/work\r\n",
      "joblib==1.1.0\r\n",
      "JPype1==1.3.0\r\n",
      "jsonpickle==2.0.0\r\n",
      "jsonschema @ file:///home/conda/feedstock_root/build_artifacts/jsonschema_1636165360877/work\r\n",
      "jupyter-client @ file:///home/conda/feedstock_root/build_artifacts/jupyter_client_1637611911738/work\r\n",
      "jupyter-core @ file:///home/conda/feedstock_root/build_artifacts/jupyter_core_1636814260563/work\r\n",
      "jupyter-desktop-server @ file:///opt/install\r\n",
      "jupyter-server @ file:///home/conda/feedstock_root/build_artifacts/jupyter_server_1639084645710/work\r\n",
      "jupyter-server-proxy @ file:///home/conda/feedstock_root/build_artifacts/jupyter-server-proxy_1638279709332/work\r\n",
      "jupyterlab-pygments @ file:///home/conda/feedstock_root/build_artifacts/jupyterlab_pygments_1601375948261/work\r\n",
      "jupyterlab-widgets @ file:///home/conda/feedstock_root/build_artifacts/jupyterlab_widgets_1631590465624/work\r\n",
      "keras==2.6.0\r\n",
      "Keras-Applications==1.0.8\r\n",
      "keras-ocr==0.8.8\r\n",
      "Keras-Preprocessing==1.1.2\r\n",
      "kiwisolver==1.3.2\r\n",
      "konlpy==0.5.2\r\n",
      "labelme2coco==0.1.2\r\n",
      "libarchive-c @ file:///home/conda/feedstock_root/build_artifacts/python-libarchive-c_1637969547960/work/dist\r\n",
      "librosa==0.8.1\r\n",
      "lightgbm==3.3.0\r\n",
      "llvmlite==0.36.0\r\n",
      "lmdb==1.2.1\r\n",
      "loguru==0.5.3\r\n",
      "lxml==4.6.3\r\n",
      "Markdown==3.3.6\r\n",
      "MarkupSafe @ file:///home/conda/feedstock_root/build_artifacts/markupsafe_1635833544680/work\r\n",
      "matplotlib==3.4.3\r\n",
      "matplotlib-inline @ file:///home/conda/feedstock_root/build_artifacts/matplotlib-inline_1631080358261/work\r\n",
      "matplotlib-venn==0.11.6\r\n",
      "mecab-python===0.996-ko-0.9.2\r\n",
      "mido==1.2.10\r\n",
      "missingno==0.5.0\r\n",
      "mistune @ file:///home/conda/feedstock_root/build_artifacts/mistune_1635844679781/work\r\n",
      "moviepy==1.0.3\r\n",
      "msgpack==1.0.3\r\n",
      "multidict @ file:///home/conda/feedstock_root/build_artifacts/multidict_1636019096528/work\r\n",
      "multiprocess==0.70.12.2\r\n",
      "munch==2.5.0\r\n",
      "mypy-extensions==0.4.3\r\n",
      "nbclient @ file:///home/conda/feedstock_root/build_artifacts/nbclient_1637327213451/work\r\n",
      "nbconvert @ file:///home/conda/feedstock_root/build_artifacts/nbconvert_1636897222956/work\r\n",
      "nbformat @ file:///home/conda/feedstock_root/build_artifacts/nbformat_1617383142101/work\r\n",
      "nest-asyncio @ file:///home/conda/feedstock_root/build_artifacts/nest-asyncio_1638419302549/work\r\n",
      "networkx==2.6.3\r\n",
      "newspaper3k==0.2.8\r\n",
      "nltk==3.6.5\r\n",
      "notebook @ file:///home/conda/feedstock_root/build_artifacts/notebook_1608772651579/work\r\n",
      "numba==0.53.1\r\n",
      "numpy @ file:///home/conda/feedstock_root/build_artifacts/numpy_1636145338621/work\r\n",
      "oauthlib==3.1.1\r\n",
      "omegaconf==2.1.1\r\n",
      "opencv-contrib-python==4.5.3.56\r\n",
      "opencv-python==4.5.3.56\r\n",
      "opencv-python-headless==4.5.4.60\r\n",
      "opt-einsum==3.3.0\r\n",
      "outcome==1.1.0\r\n",
      "packaging @ file:///home/conda/feedstock_root/build_artifacts/packaging_1637239678211/work\r\n",
      "pandas==1.3.3\r\n",
      "pandocfilters @ file:///home/conda/feedstock_root/build_artifacts/pandocfilters_1631603243851/work\r\n",
      "parso @ file:///home/conda/feedstock_root/build_artifacts/parso_1638334955874/work\r\n",
      "pathspec==0.9.0\r\n",
      "patsy==0.5.2\r\n",
      "pexpect @ file:///home/conda/feedstock_root/build_artifacts/pexpect_1602535608087/work\r\n",
      "pickleshare @ file:///home/conda/feedstock_root/build_artifacts/pickleshare_1602536217715/work\r\n",
      "Pillow==8.3.2\r\n",
      "pixellib==0.7.1\r\n",
      "pkginfo @ file:///home/conda/feedstock_root/build_artifacts/pkginfo_1637342515370/work\r\n",
      "platformdirs==2.4.0\r\n",
      "pmdarima==1.8.3\r\n",
      "pooch==1.5.2\r\n",
      "portalocker==2.3.2\r\n",
      "proglog==0.1.9\r\n",
      "prometheus-client @ file:///home/conda/feedstock_root/build_artifacts/prometheus_client_1635538335951/work\r\n",
      "promise==2.3\r\n",
      "prompt-toolkit @ file:///home/conda/feedstock_root/build_artifacts/prompt-toolkit_1636045889479/work\r\n",
      "proto-plus==1.19.8\r\n",
      "protobuf==3.19.1\r\n",
      "psutil @ file:///home/conda/feedstock_root/build_artifacts/psutil_1635822677294/work\r\n",
      "ptyprocess @ file:///home/conda/feedstock_root/build_artifacts/ptyprocess_1609419310487/work/dist/ptyprocess-0.7.0-py2.py3-none-any.whl\r\n",
      "py4j==0.10.9\r\n",
      "pyarrow==6.0.1\r\n",
      "pyasn1==0.4.8\r\n",
      "pyasn1-modules==0.2.8\r\n",
      "pyclipper==1.3.0.post2\r\n",
      "pycosat @ file:///home/conda/feedstock_root/build_artifacts/pycosat_1636020362356/work\r\n",
      "pycparser @ file:///home/conda/feedstock_root/build_artifacts/pycparser_1636257122734/work\r\n",
      "pydot==1.4.2\r\n",
      "pydotplus==2.0.2\r\n",
      "Pygments @ file:///home/conda/feedstock_root/build_artifacts/pygments_1629119114968/work\r\n",
      "pyOpenSSL @ file:///home/conda/feedstock_root/build_artifacts/pyopenssl_1633192417276/work\r\n",
      "pyparsing @ file:///home/conda/feedstock_root/build_artifacts/pyparsing_1636757021002/work\r\n",
      "pyproj==3.2.1\r\n",
      "PyQt5==5.15.6\r\n",
      "PyQt5-Qt5==5.15.2\r\n",
      "PyQt5-sip==12.9.0\r\n",
      "pyrsistent @ file:///home/conda/feedstock_root/build_artifacts/pyrsistent_1636052584784/work\r\n",
      "PySocks @ file:///home/conda/feedstock_root/build_artifacts/pysocks_1635862404942/work\r\n",
      "pyspark==3.1.2\r\n",
      "pytesseract==0.3.8\r\n",
      "python-dateutil @ file:///home/conda/feedstock_root/build_artifacts/python-dateutil_1626286286081/work\r\n",
      "python-Levenshtein==0.12.2\r\n",
      "pytz @ file:///home/conda/feedstock_root/build_artifacts/pytz_1633452062248/work\r\n",
      "pyvis==0.1.9\r\n",
      "PyWavelets==1.2.0\r\n",
      "PyYAML @ file:///home/conda/feedstock_root/build_artifacts/pyyaml_1636139833192/work\r\n",
      "pyzmq @ file:///home/conda/feedstock_root/build_artifacts/pyzmq_1635877397296/work\r\n",
      "qudida==0.0.4\r\n",
      "ray==1.7.0\r\n",
      "redis==4.0.2\r\n",
      "regex==2021.11.10\r\n",
      "requests @ file:///home/conda/feedstock_root/build_artifacts/requests_1637771257551/work\r\n",
      "requests-file==1.5.1\r\n",
      "requests-oauthlib==1.3.0\r\n",
      "resampy==0.2.2\r\n",
      "rfc3986==1.5.0\r\n",
      "rsa==4.8\r\n",
      "ruamel-yaml-conda @ file:///home/conda/feedstock_root/build_artifacts/ruamel_yaml_1636009144459/work\r\n",
      "sacremoses==0.0.46\r\n",
      "scikit-image==0.18.3\r\n",
      "scikit-learn==1.0\r\n",
      "scipy==1.7.1\r\n",
      "seaborn==0.11.2\r\n",
      "selenium==4.0.0\r\n",
      "Send2Trash @ file:///home/conda/feedstock_root/build_artifacts/send2trash_1628511208346/work\r\n",
      "sentencepiece==0.1.96\r\n",
      "sgmllib3k==1.0.0\r\n",
      "Shapely==1.7.1\r\n",
      "simpervisor @ file:///home/conda/feedstock_root/build_artifacts/simpervisor_1609865618711/work\r\n",
      "six==1.16.0\r\n",
      "smart-open==5.2.1\r\n",
      "sniffio @ file:///home/conda/feedstock_root/build_artifacts/sniffio_1635844660462/work\r\n",
      "sortedcontainers==2.4.0\r\n",
      "SoundFile==0.10.3.post1\r\n",
      "soupsieve @ file:///home/conda/feedstock_root/build_artifacts/soupsieve_1638550740809/work\r\n",
      "soynlp==0.0.493\r\n",
      "statistics==1.0.3.5\r\n",
      "statsmodels==0.13.0\r\n",
      "summa==1.2.0\r\n",
      "tabulate==0.8.9\r\n",
      "tensorboard==2.7.0\r\n",
      "tensorboard-data-server==0.6.1\r\n",
      "tensorboard-plugin-wit==1.8.0\r\n",
      "tensorflow-addons==0.14.0\r\n",
      "tensorflow-datasets==4.4.0\r\n",
      "tensorflow-estimator==2.7.0\r\n",
      "tensorflow-gpu==2.6.0\r\n",
      "tensorflow-hub==0.12.0\r\n",
      "tensorflow-metadata==1.5.0\r\n",
      "termcolor==1.1.0\r\n",
      "terminado @ file:///home/conda/feedstock_root/build_artifacts/terminado_1636052205136/work\r\n",
      "testpath @ file:///home/conda/feedstock_root/build_artifacts/testpath_1621261527237/work\r\n",
      "threadpoolctl==3.0.0\r\n",
      "tifffile==2021.11.2\r\n",
      "tinysegmenter==0.3\r\n",
      "tldextract==3.1.2\r\n",
      "tokenizers==0.10.3\r\n",
      "tomli==1.2.2\r\n",
      "torch==1.9.1+cu111\r\n",
      "torchaudio==0.9.1\r\n",
      "torchvision==0.10.1+cu111\r\n",
      "tornado @ file:///home/conda/feedstock_root/build_artifacts/tornado_1635819584296/work\r\n",
      "tqdm @ file:///home/conda/feedstock_root/build_artifacts/tqdm_1632160078689/work\r\n",
      "traitlets @ file:///home/conda/feedstock_root/build_artifacts/traitlets_1635260543454/work\r\n",
      "transformers==4.11.3\r\n",
      "trio==0.19.0\r\n",
      "trio-websocket==0.9.2\r\n",
      "tweepy==3.10.0\r\n",
      "typeguard==2.13.2\r\n",
      "typing_extensions @ file:///home/conda/feedstock_root/build_artifacts/typing_extensions_1638334978229/work\r\n",
      "uritemplate==4.1.1\r\n",
      "urllib3 @ file:///home/conda/feedstock_root/build_artifacts/urllib3_1632350318291/work\r\n",
      "validators==0.18.2\r\n",
      "wcwidth @ file:///home/conda/feedstock_root/build_artifacts/wcwidth_1600965781394/work\r\n",
      "webencodings==0.5.1\r\n",
      "websocket-client @ file:///home/conda/feedstock_root/build_artifacts/websocket-client_1638949723239/work\r\n",
      "websockify @ file:///home/conda/feedstock_root/build_artifacts/websockify_1636279306203/work\r\n",
      "Werkzeug==2.0.2\r\n",
      "wget==3.2\r\n",
      "widgetsnbextension @ file:///home/conda/feedstock_root/build_artifacts/widgetsnbextension_1637174147962/work\r\n",
      "wordcloud==1.8.1\r\n",
      "wrapt==1.12.1\r\n",
      "wsproto==1.0.0\r\n",
      "xgboost==1.4.2\r\n",
      "xmljson==0.2.1\r\n",
      "xxhash==2.0.2\r\n",
      "yacs==0.1.8\r\n",
      "yarl @ file:///home/conda/feedstock_root/build_artifacts/yarl_1636046810561/work\r\n",
      "zipp @ file:///home/conda/feedstock_root/build_artifacts/zipp_1633302054558/work\r\n",
      "Note: you may need to restart the kernel to use updated packages.\n"
     ]
    }
   ],
   "source": [
    "pip freeze"
   ]
  },
  {
   "cell_type": "code",
   "execution_count": 32,
   "id": "0f7ee9db",
   "metadata": {},
   "outputs": [
    {
     "name": "stdout",
     "output_type": "stream",
     "text": [
      "Found existing installation: gensim 3.8.3\n",
      "Uninstalling gensim-3.8.3:\n",
      "  Successfully uninstalled gensim-3.8.3\n",
      "\u001b[33mWARNING: Running pip as the 'root' user can result in broken permissions and conflicting behaviour with the system package manager. It is recommended to use a virtual environment instead: https://pip.pypa.io/warnings/venv\u001b[0m\n",
      "Collecting gensim==3.8.3\n",
      "  Using cached gensim-3.8.3-cp39-cp39-linux_x86_64.whl\n",
      "Requirement already satisfied: smart-open>=1.8.1 in /opt/conda/lib/python3.9/site-packages (from gensim==3.8.3) (5.2.1)\n",
      "Requirement already satisfied: scipy>=0.18.1 in /opt/conda/lib/python3.9/site-packages (from gensim==3.8.3) (1.7.1)\n",
      "Requirement already satisfied: six>=1.5.0 in /opt/conda/lib/python3.9/site-packages (from gensim==3.8.3) (1.16.0)\n",
      "Requirement already satisfied: numpy>=1.11.3 in /opt/conda/lib/python3.9/site-packages (from gensim==3.8.3) (1.21.4)\n",
      "Installing collected packages: gensim\n",
      "Successfully installed gensim-3.8.3\n",
      "\u001b[33mWARNING: Running pip as the 'root' user can result in broken permissions and conflicting behaviour with the system package manager. It is recommended to use a virtual environment instead: https://pip.pypa.io/warnings/venv\u001b[0m\n"
     ]
    }
   ],
   "source": [
    "!pip uninstall gensim --yes\n",
    "!pip install gensim==3.8.3"
   ]
  },
  {
   "cell_type": "code",
   "execution_count": 34,
   "id": "1022423b",
   "metadata": {},
   "outputs": [],
   "source": [
    "import os\n",
    "from gensim.models import Word2Vec"
   ]
  },
  {
   "cell_type": "markdown",
   "id": "6e3dadb3",
   "metadata": {},
   "source": [
    "### RNN"
   ]
  },
  {
   "cell_type": "code",
   "execution_count": 35,
   "id": "9fb9b056",
   "metadata": {},
   "outputs": [
    {
     "name": "stderr",
     "output_type": "stream",
     "text": [
      "/tmp/ipykernel_968/2704449283.py:3: DeprecationWarning: Call to deprecated `__getitem__` (Method will be removed in 4.0.0, use self.wv.__getitem__() instead).\n",
      "  vector = word2vec['사랑']\n"
     ]
    },
    {
     "data": {
      "text/plain": [
       "array([-1.3740246 , -1.7353463 ,  3.3915305 , -2.569253  , -1.4016607 ,\n",
       "        1.4556127 ,  0.9414557 ,  1.9207907 ,  0.16471806,  0.4838317 ,\n",
       "       -0.8547181 ,  2.0879807 ,  0.86741775,  0.87539405, -0.09962013,\n",
       "        0.22928311, -1.1858722 ,  0.00858838,  1.4999928 , -0.16196461,\n",
       "       -0.35184434, -0.92390764,  1.0849575 ,  0.3025011 ,  2.7021565 ,\n",
       "       -1.0263684 ,  0.32864776, -0.76589465, -2.510981  , -0.66225356,\n",
       "        2.8434615 ,  0.50130975, -1.021874  , -1.4366034 ,  1.1110784 ,\n",
       "        0.5812605 , -0.5830406 , -0.5785423 ,  1.3634988 ,  2.3074338 ,\n",
       "       -1.4314893 ,  0.45745876,  1.1073523 , -3.2135262 , -0.2898375 ,\n",
       "       -1.1622221 ,  1.2369208 , -0.7622987 , -0.37757635,  1.1376442 ,\n",
       "        0.01065568, -0.69105595,  1.5159112 ,  1.1534518 , -1.0119992 ,\n",
       "       -0.5757404 ,  1.1349088 , -1.1289831 ,  0.13004152,  2.0451715 ,\n",
       "       -0.23940353,  1.3604902 ,  0.72700524,  0.32545742,  1.0612459 ,\n",
       "        0.42252553,  1.1442151 ,  2.8774905 ,  2.4377263 , -1.340305  ,\n",
       "        0.12629706, -0.07772489, -0.59053177, -0.19007324,  0.1396541 ,\n",
       "       -1.8655105 ,  0.9401054 ,  0.5150856 ,  0.7795373 , -0.86505556,\n",
       "        0.11842118, -1.8303713 ,  1.337177  , -1.0102932 , -0.37180334,\n",
       "        0.00893255, -0.49141577, -1.05802   , -2.5987291 ,  0.9731856 ,\n",
       "        0.34080654, -2.5973568 ,  1.0046519 , -1.3914212 , -0.6504351 ,\n",
       "       -0.9010805 , -1.1341541 ,  0.75565654,  1.2941337 ,  0.0880572 ,\n",
       "       -1.0341461 , -0.1750075 , -0.01880708, -1.0835075 , -2.0333962 ,\n",
       "        1.1372623 ,  1.0626172 , -1.8369784 , -2.2662086 , -3.382057  ,\n",
       "        1.6751666 , -0.2988223 , -0.25563756, -1.5594274 ,  0.6313433 ,\n",
       "       -1.2667153 , -1.6857744 , -1.0949599 ,  0.7742313 , -0.6095523 ,\n",
       "        3.19503   ,  0.13200459,  1.7937473 , -2.8782516 ,  1.3821276 ,\n",
       "        2.2895143 ,  0.0741943 , -0.41046414,  1.438796  ,  0.19373988,\n",
       "        1.4294034 ,  1.5025262 ,  1.4849502 ,  1.5754777 ,  2.7793512 ,\n",
       "       -0.6885003 , -0.30154693, -1.708323  ,  1.1030879 , -2.2597387 ,\n",
       "        1.1909146 ,  2.4399316 ,  0.3990314 ,  0.904154  ,  0.5454401 ,\n",
       "       -1.3235748 , -0.64812386,  0.22390233,  0.9657619 , -0.47360668,\n",
       "       -0.10278235, -1.0679734 , -0.91414386,  0.92069   ,  0.3549338 ,\n",
       "        0.32858834,  0.84870636,  3.596926  , -1.6651102 ,  0.23658653,\n",
       "        1.0515738 ,  0.40531915, -0.773514  , -0.93460965, -0.3946274 ,\n",
       "       -1.5657727 ,  1.183652  ,  2.5277    ,  0.57700926,  1.7051374 ,\n",
       "       -1.8249958 , -2.0328498 ,  0.6617798 ,  0.85747904,  0.31782728,\n",
       "       -1.1660796 ,  0.32923874,  2.2055087 , -0.12782003,  2.0455444 ,\n",
       "       -0.1724252 ,  0.46001154,  1.559042  , -1.6152996 , -0.84242785,\n",
       "        0.7553168 ,  0.39734274,  0.07714175,  0.05610155,  0.32837135,\n",
       "        1.0220716 ,  1.3816743 ,  0.8049544 ,  0.28728685, -0.97610044,\n",
       "        0.8861181 , -0.01250968, -1.4845604 , -1.5236791 , -1.5451258 ],\n",
       "      dtype=float32)"
      ]
     },
     "execution_count": 35,
     "metadata": {},
     "output_type": "execute_result"
    }
   ],
   "source": [
    "word2vec_path = os.getenv('HOME')+'/aiffel/sentiment_classification/data/ko.bin'\n",
    "word2vec =Word2Vec.load(word2vec_path)\n",
    "vector = word2vec['사랑']\n",
    "vector  # 200dim의 워드 벡터입니다."
   ]
  },
  {
   "cell_type": "code",
   "execution_count": 36,
   "id": "10bb3b49",
   "metadata": {},
   "outputs": [
    {
     "name": "stderr",
     "output_type": "stream",
     "text": [
      "/tmp/ipykernel_968/1360476464.py:1: DeprecationWarning: Call to deprecated `similar_by_word` (Method will be removed in 4.0.0, use self.wv.similar_by_word() instead).\n",
      "  word2vec.similar_by_word(\"사랑\")\n"
     ]
    },
    {
     "data": {
      "text/plain": [
       "[('슬픔', 0.7216662764549255),\n",
       " ('행복', 0.6759077310562134),\n",
       " ('절망', 0.6468985080718994),\n",
       " ('기쁨', 0.6458414196968079),\n",
       " ('이별', 0.6334798336029053),\n",
       " ('추억', 0.6320937275886536),\n",
       " ('인생', 0.6216273307800293),\n",
       " ('애정', 0.6206069588661194),\n",
       " ('연인', 0.6186063289642334),\n",
       " ('유혹', 0.5965287685394287)]"
      ]
     },
     "execution_count": 36,
     "metadata": {},
     "output_type": "execute_result"
    }
   ],
   "source": [
    "word2vec.similar_by_word(\"사랑\")"
   ]
  },
  {
   "cell_type": "code",
   "execution_count": 37,
   "id": "177d4956",
   "metadata": {},
   "outputs": [
    {
     "name": "stderr",
     "output_type": "stream",
     "text": [
      "/tmp/ipykernel_968/1730871920.py:7: DeprecationWarning: Call to deprecated `__contains__` (Method will be removed in 4.0.0, use self.wv.__contains__() instead).\n",
      "  if index_to_word[i] in word2vec:\n",
      "/tmp/ipykernel_968/1730871920.py:8: DeprecationWarning: Call to deprecated `__getitem__` (Method will be removed in 4.0.0, use self.wv.__getitem__() instead).\n",
      "  embedding_matrix[i] = word2vec[index_to_word[i]]\n"
     ]
    }
   ],
   "source": [
    "vocab_size = 10000    # 어휘 사전의 크기입니다(10,000개의 단어)\n",
    "word_vector_dim = 200  # 워드 벡터의 차원수\n",
    "embedding_matrix = np.random.rand(vocab_size, word_vector_dim)\n",
    "\n",
    "# embedding_matrix에 Word2Vec 워드 벡터를 단어 하나씩마다 차례차례 카피한다.\n",
    "for i in range(4,vocab_size):\n",
    "    if index_to_word[i] in word2vec:\n",
    "        embedding_matrix[i] = word2vec[index_to_word[i]]"
   ]
  },
  {
   "cell_type": "code",
   "execution_count": 38,
   "id": "b1e98178",
   "metadata": {},
   "outputs": [
    {
     "name": "stdout",
     "output_type": "stream",
     "text": [
      "Model: \"sequential_3\"\n",
      "_________________________________________________________________\n",
      "Layer (type)                 Output Shape              Param #   \n",
      "=================================================================\n",
      "embedding_3 (Embedding)      (None, 39, 200)           2000000   \n",
      "_________________________________________________________________\n",
      "conv1d_2 (Conv1D)            (None, 37, 16)            9616      \n",
      "_________________________________________________________________\n",
      "max_pooling1d_1 (MaxPooling1 (None, 7, 16)             0         \n",
      "_________________________________________________________________\n",
      "conv1d_3 (Conv1D)            (None, 5, 16)             784       \n",
      "_________________________________________________________________\n",
      "global_max_pooling1d_2 (Glob (None, 16)                0         \n",
      "_________________________________________________________________\n",
      "dense_6 (Dense)              (None, 8)                 136       \n",
      "_________________________________________________________________\n",
      "dense_7 (Dense)              (None, 1)                 9         \n",
      "=================================================================\n",
      "Total params: 2,010,545\n",
      "Trainable params: 2,010,545\n",
      "Non-trainable params: 0\n",
      "_________________________________________________________________\n"
     ]
    }
   ],
   "source": [
    "from tensorflow.keras.initializers import Constant\n",
    "\n",
    "vocab_size = 10000    # 어휘 사전의 크기입니다(10,000개의 단어)\n",
    "word_vector_dim = 200  # 워드 벡터의 차원 수 \n",
    "\n",
    "# 모델 구성\n",
    "model = tf.keras.Sequential()\n",
    "model.add(tf.keras.layers.Embedding(vocab_size, \n",
    "                                 word_vector_dim, \n",
    "                                 embeddings_initializer=Constant(embedding_matrix),  # 카피한 임베딩을 여기서 활용\n",
    "                                 input_length=maxlen, \n",
    "                                 trainable=True))   # trainable을 True로 주면 Fine-tuning\n",
    "model.add(tf.keras.layers.Conv1D(16, 3, activation='relu'))\n",
    "model.add(tf.keras.layers.MaxPooling1D(5))\n",
    "model.add(tf.keras.layers.Conv1D(16, 3, activation='relu'))\n",
    "model.add(tf.keras.layers.GlobalMaxPooling1D())\n",
    "model.add(tf.keras.layers.Dense(8, activation='relu'))\n",
    "model.add(tf.keras.layers.Dense(1, activation='sigmoid')) \n",
    "\n",
    "model.summary()"
   ]
  },
  {
   "cell_type": "code",
   "execution_count": 39,
   "id": "0684dc02",
   "metadata": {},
   "outputs": [
    {
     "name": "stdout",
     "output_type": "stream",
     "text": [
      "Epoch 1/10\n",
      "200/200 [==============================] - 3s 9ms/step - loss: 0.6044 - accuracy: 0.6579 - val_loss: 0.4871 - val_accuracy: 0.7651\n",
      "Epoch 2/10\n",
      "200/200 [==============================] - 1s 6ms/step - loss: 0.4246 - accuracy: 0.8067 - val_loss: 0.4006 - val_accuracy: 0.8199\n",
      "Epoch 3/10\n",
      "200/200 [==============================] - 1s 6ms/step - loss: 0.3539 - accuracy: 0.8460 - val_loss: 0.3756 - val_accuracy: 0.8341\n",
      "Epoch 4/10\n",
      "200/200 [==============================] - 1s 7ms/step - loss: 0.3150 - accuracy: 0.8674 - val_loss: 0.3659 - val_accuracy: 0.8399\n",
      "Epoch 5/10\n",
      "200/200 [==============================] - 1s 6ms/step - loss: 0.2868 - accuracy: 0.8814 - val_loss: 0.3636 - val_accuracy: 0.8423\n",
      "Epoch 6/10\n",
      "200/200 [==============================] - 1s 6ms/step - loss: 0.2640 - accuracy: 0.8939 - val_loss: 0.3752 - val_accuracy: 0.8389\n",
      "Epoch 7/10\n",
      "200/200 [==============================] - 1s 6ms/step - loss: 0.2433 - accuracy: 0.9051 - val_loss: 0.3818 - val_accuracy: 0.8399\n",
      "Epoch 8/10\n",
      "200/200 [==============================] - 1s 6ms/step - loss: 0.2241 - accuracy: 0.9138 - val_loss: 0.3932 - val_accuracy: 0.8413\n",
      "Epoch 9/10\n",
      "200/200 [==============================] - 1s 6ms/step - loss: 0.2049 - accuracy: 0.9233 - val_loss: 0.4083 - val_accuracy: 0.8368\n",
      "Epoch 10/10\n",
      "200/200 [==============================] - 1s 7ms/step - loss: 0.1869 - accuracy: 0.9317 - val_loss: 0.4290 - val_accuracy: 0.8365\n"
     ]
    }
   ],
   "source": [
    "# 학습의 진행\n",
    "model.compile(optimizer='adam', loss='binary_crossentropy', metrics=['accuracy'])\n",
    "\n",
    "history = model.fit(x_train,y_train, epochs=10,batch_size=512, validation_split=0.3, verbose=1)"
   ]
  },
  {
   "cell_type": "code",
   "execution_count": 40,
   "id": "c0d613a1",
   "metadata": {},
   "outputs": [
    {
     "name": "stdout",
     "output_type": "stream",
     "text": [
      "1537/1537 - 3s - loss: 0.4346 - accuracy: 0.8359\n"
     ]
    },
    {
     "data": {
      "text/plain": [
       "[0.4345906674861908, 0.8359338641166687]"
      ]
     },
     "execution_count": 40,
     "metadata": {},
     "output_type": "execute_result"
    }
   ],
   "source": [
    "results = model.evaluate(x_test,  y_test, verbose=2)\n",
    "results"
   ]
  },
  {
   "cell_type": "code",
   "execution_count": 41,
   "id": "1d8fc415",
   "metadata": {},
   "outputs": [
    {
     "name": "stdout",
     "output_type": "stream",
     "text": [
      "dict_keys(['loss', 'accuracy', 'val_loss', 'val_accuracy'])\n"
     ]
    },
    {
     "data": {
      "image/png": "[encoded data removed]",
      "text/plain": [
       "<Figure size 432x288 with 1 Axes>"
      ]
     },
     "metadata": {
      "needs_background": "light"
     },
     "output_type": "display_data"
    }
   ],
   "source": [
    "history_dict = history.history\n",
    "print(history_dict.keys()) # epoch에 따른 그래프를 그려볼 수 있는 항목들\n",
    "\n",
    "import matplotlib.pyplot as plt\n",
    "\n",
    "acc = history_dict['accuracy']\n",
    "val_acc = history_dict['val_accuracy']\n",
    "loss = history_dict['loss']\n",
    "val_loss = history_dict['val_loss']\n",
    "\n",
    "epochs = range(1, len(acc) + 1)\n",
    "\n",
    "plt.plot(epochs, loss, 'r', label='Training loss')\n",
    "plt.plot(epochs, val_loss, 'b', label='Validation loss')\n",
    "plt.title('Training and validation loss')\n",
    "plt.xlabel('Epochs')\n",
    "plt.ylabel('Loss')\n",
    "plt.legend()\n",
    "\n",
    "plt.show()"
   ]
  },
  {
   "cell_type": "markdown",
   "id": "83904e8f",
   "metadata": {},
   "source": [
    "- 원래 모델과 크게 loss와 accuracy가 차이나지 않음. 오버피팅이 조금 더 늦게 나타나는 정도...?"
   ]
  },
  {
   "cell_type": "markdown",
   "id": "cf3d99b6",
   "metadata": {},
   "source": [
    "# 회고"
   ]
  },
  {
   "attachments": {
    "image-2.png": {
     "image/png": "[encoded data removed]"
    }
   },
   "cell_type": "markdown",
   "id": "85da8bb8",
   "metadata": {},
   "source": [
    "## 이번 프로젝트에서 어려웠던 점\n",
    "\n",
    "1) 처음에는 구글 코랩에서 진행하였는데, `from konlpy.tag import Mecab`이 진행되지 않았다. JAVA도 설치해 보았으나 진행되지 않아서, 클라우드 주피터로 작성하였다. (아마도 내 컴퓨터가 윈도우라서 여러 설정이 필요한 듯 했다. 아이펠의 클라우드 주피터에서는 리눅스 기반이라 별다른 설정 없이 잘 진행되었다.)\n",
    "\n",
    "2) **`8)`**에서 **`gensim 버전을 3.x.x로 낮춰야 오류가 나지 않습니다.`**:라는 문구를 보고 gensim 버전을 확인했더니 `4.1`버전으로 확인이 되었다. 그냥 진행했더니 진짜 에러가 너무 나서 진행이 되질 않아서 버전을 낮추는 방법을 찾아보느라 너무 오래걸렸다.\n",
    "\n",
    "- 다운 그레이드를 했지만 계속 오류가 나서... 아이펠 선배님의 명예의 전당에서 참고하려고 깃허브를 참고했는데 그 분의 회고에서 ***다운 그레이드 관련 이슈와는 상관없는 문제같았다*** 라는 회고를 보고 <u>절망과 분노를 느끼고 눈물을 흘렸다...<br>(진짜 운거 맞음 :( )</u>\n",
    "- 주말동안 20시간을 투자했지만 결국 **`8)`**에서 진행이 더 되지 않아서 결과도출을 포기할까 고민했다...\n",
    "\n",
    "3) ***`8)`***에서 깃허브 링크에서 `ko.bin` **<u>파일이 손상된 것 같다.</u>** 안그래도 그동안 수많은 에러와 코드분석으로 많은 시간이 걸렸는데 파일까지 정상이 아니어서... 너무 화가난다...<br>\n",
    "그리고 같은 폴더 안에 있는 `ko.tsv`파일을 넣어봤으나, 그 안에 라벨링 되어있는 문자가 for문 안에서 걸려서 더 진행되지 않았다. 인코딩 에러라고 떠서 온갖 인코딩을 시도해봤으나 실패. \n",
    "\n",
    "<br>\n",
    "\n",
    "에러 메세지를 자세히 보니\n",
    "```\n",
    "277     vocab_size, vector_size = (int(x) for x in header.split())  # throws for invalid file format\n",
    "278     if limit:\n",
    "279         vocab_size = min(vocab_size, limit)\n",
    "\n",
    "ValueError: invalid literal for int() with base 10: '하'\n",
    "```\n",
    "<br>\n",
    "라고 나와있는데, `277` 코드에서 넘어가지 못하고 있는 듯 했다.<br>\n",
    "\n",
    "근데 이건 <u>내가 작성한 코드가 아니고......................</u><br>\n",
    "\n",
    "***`load_word2vec_format` 메서드에 내장된 코드인데..........*** <br>\n",
    "\n",
    "<u>내가 잘못한줄 알고 고민했던 시간이 너무 길었다...........</u><br>\n",
    "\n",
    "<br>\n",
    "\n",
    "![image-2.png](attachment:image-2.png)\n",
    "    \n",
    "<br>\n",
    "\n",
    "**은지님이 주신 코드로 성공.** <u>하지만 노드에는 없는 코드였으므로***(명예의 전당에서 발견한 코드라고 하셨음)***, 노드를 만들어주신 <span style=\"color:red\">***우지철***</span>님의 ***코드가 잘못되어서*** 고통받은 것이었다</u>\n",
    "\n",
    "    "
   ]
  },
  {
   "cell_type": "markdown",
   "id": "0a4950c8",
   "metadata": {},
   "source": [
    "## 프로젝트를 진행하면서 알아낸 점 혹은 아직 모호한 점\n",
    "\n",
    "### 1) 함수 load_data\n",
    "\n",
    "단계별로 나뉘어 있지 않고, 예시코드가 하나의 함수에 모두 들어가 있어서 해석하기도 참 힘들고 오랜 시간이 걸렸다. 그렇다고 내가 새로 코드를 짤 수 있는 실력은 되질 않아서 최선을 다해 주석을 달아가며 힘겹게 코드를 이해했고, 또 아예 학습에 필요한 모든 변수들을 반환할 수 있도록 만들기로 했다. 그래서 시간이 더 배로 오래 걸림... <strike>(그냥 복사 붙여넣기 할걸 괜히 건드려서 지옥을 열어버린 기분이었다...) </strike>\n",
    "\n",
    "   "
   ]
  },
  {
   "cell_type": "markdown",
   "id": "a753b148",
   "metadata": {},
   "source": [
    "### 2) keras에서 모델 쌓는 법\n",
    "\n",
    "아이펠 이전에 잠깐 AI강의를 들은 적이 있었는데, 그땐 잘 모르고 따라했던 코드가 있어서 다시 봤더니 아이펠의 방식(`model.add()`)과 다르게 모델 레이어를 쌓은 것을 보고 다양한 코드 방식에 익숙해지고 싶어서 시도해 보았다. \n",
    "\n",
    "<br>\n",
    "\n",
    "***이전 강의에서 썼던 코드***\n",
    "\n",
    "```\n",
    "# 모델 만들기\n",
    "X = tf.keras.Input(shape=[28, 28, 1])\n",
    "H = tf.keras.layers.Conv2D(3, kernel_size=5, activation='swish')(X) # filter (3, 5, 5, 1)\n",
    "H = tf.keras.layers.Conv2D(6, kernel_size=5, activation='swish')(H) # filter (6, 5, 5, 3)\n",
    "H = tf.keras.layers.Flatten()(H)\n",
    "H = tf.keras.layers.Dense(84, activation='swish')(H)\n",
    "Y = tf.keras.layers.Dense(10, activation='softmax')(H)\n",
    "\n",
    "model = tf.keras.Model(X, Y)\n",
    "model.compile(loss='sparse_categorical_crossentropy', metrics='accuracy')\n",
    "\n",
    "model.summary()\n",
    "```\n",
    "\n",
    "<br>\n",
    "\n",
    "***이번 프로젝트에서 시험해 봄***\n",
    "\n",
    "```\n",
    "# 임베딩사이즈는 (1, 10000, 4)이다.\n",
    "# 단어사전의 갯수 10000개, 단어 하나당 4차원 벡터\n",
    "# LSTM은 3차원을 입력값으로 받으므로, 3차원 배열로 임베딩 해준다.\n",
    "\n",
    "E = tf.keras.layers.Embedding(10000, 4, input_shape=(None,))\n",
    "H = tf.keras.layers.LSTM(8)(E)\n",
    "H = tf.keras.layers.Dense(8, activation='relu')(H)\n",
    "Y = tf.keras.layers.Dense(1, activation='sigmoid')(H)  # 최종 출력은 긍정/부정을 나타내는 1dim 입니다\n",
    "\n",
    "model = tf.keras.Sequential(E, Y)\n",
    "\n",
    "model.summary()\n",
    "```\n",
    "\n",
    "<br>\n",
    "\n",
    "이렇게 입력하는 것이 계속 오류가 나서 마지막에 `tf.keras.Sequential(Y)`로도 작성해 보았지만 fail...\n",
    "\n",
    "**tensorflow 공식문서**를 찾아보니 [순차모델의 일반적인 디버깅 워크플로우: add() + summary()](https://www.tensorflow.org/guide/keras/sequential_model?hl=ko#%EC%9D%BC%EB%B0%98%EC%A0%81%EC%9D%B8_%EB%94%94%EB%B2%84%EA%B9%85_%EC%9B%8C%ED%81%AC%ED%94%8C%EB%A1%9C%EC%9A%B0_add_summary)라고 되어 있어서... Sequential 모델에서는 model을 먼저 선언하고, `model.add()`를 써야하는 거구나 납득하게 되었다.\n",
    "\n",
    "강의를 들었을 때 사용했던 코드는 <u>**이미지 분석 CNN** 관련 코드라서, **글자를 분석하는 Sequencial 모델**과는 다르게 생각하고 적용해야한다는 것을 알게되었다.</u>"
   ]
  },
  {
   "cell_type": "markdown",
   "id": "11ac33a0",
   "metadata": {},
   "source": [
    "### 3) model.summary()가 출력되었을 때 파라미터의 계산\n",
    "\n",
    "- 예전에 파라미터의 계산에 대해서 배운적이 있었는데 하나도 기억나지 않아서 다시 찾아보고 정리함\n",
    "\n",
    "<br>\n",
    "\n",
    "***CNN의 계산***\n",
    "    \n",
    "$커널크기 * 입력차원수 * 출력차원수 + bias(출력차원수와 같음)$\n",
    "\n",
    "\n",
    "<br>\n",
    "\n",
    "***LSTM의 계산***\n",
    "\n",
    "$inputdim * ((inputdim+1) * outputdim+outputdim^2)$\n",
    "\n",
    "- 다른 RNN과 계산식이 다르다\n",
    "- RNN은 기본적으로 텍스트를 분석하는 **Sequential객체**이기 때문에, **CNN과 달리 이전 레이어에서의 계산식을 모두 고려해야한다!**\n",
    "\n",
    "\n",
    "<br>\n",
    "\n",
    "> ❗ <u>**bias 노드란?**</u><br><br>\n",
    "입력 패턴의 모든 값이 0이면, 가중치가 변하지 않아 모델이 학습을 할 수 없으므로  <u>상수 출력값이 `1`인 **bias 노드**를 가상의 input으로 넣어준다.</u> **(출력 노드의 input이다)**<br>\n",
    "출력 노드는 가상의 상수 출력 값인 bias노드를 가진다.\n"
   ]
  },
  {
   "cell_type": "markdown",
   "id": "f424123f",
   "metadata": {},
   "source": [
    "### 4) 과적합 문제 (overfitting)\n",
    "\n",
    "RNN, CNN, GOLD MAX POOLING 세 가지의 모델을 만들어서 학습을 했는데, 파라미터를 아무리 바꿔도 과적합 문제가 해결되지 않았다...<br><br>\n",
    "***특히 CNN의 경우에는*** 모델 학습할 때 계속 오류가 났는데, **negative dim**이 생겼다는 오류 메세지가 떴고, conv 1D의 커널 사이즈를 7로 두었는데, 메세지를 보니 3에서 7을 빼서 음수가 되었다고 적혀있었다. 임베딩하면서 입력데이터를 3차원 배열로 변환시켰었는데 <u>커널 사이즈가 3보다 커서 학습이 되지 않는것</u>으로 이해하고 3보다 작은 커널사이즈를 입력했더니 학습이 진행되었다."
   ]
  },
  {
   "cell_type": "markdown",
   "id": "72ad9b65",
   "metadata": {},
   "source": [
    "## 루브릭 평가 지표를 맞추기 위해 시도한 것들\n",
    "\n",
    ">1. 다양한 방법으로 Text Classification 태스크를 성공적으로 구현하였다.<br>\n",
    "        동작됨\n",
    "    \n",
    ">2. gensim을 활용하여 자체학습된 혹은 사전학습된 임베딩 레이어를 분석하였다.<br>\n",
    "        특수문자 제거, 토크나이저 생성, 패딩처리 모두 완료되었다.\n",
    "    \n",
    "> 3. 한국어 Word2Vec을 활용하여 가시적인 성능향상을 달성했다.<br>\n",
    "        학습됨"
   ]
  },
  {
   "cell_type": "markdown",
   "id": "e7d8ddc6",
   "metadata": {},
   "source": [
    "## 만약에 루브릭 평가 관련 지표를 달성 하지 못했을 때, 이유에 관한 추정\n",
    "\n",
    "    "
   ]
  },
  {
   "cell_type": "markdown",
   "id": "a49ae133",
   "metadata": {},
   "source": [
    "- ***초보자가 할 수 없는 난이도***\n",
    "- 처음부터 <u>**모듈**을 설치하는 방법을 찾는데에게 너무 오랜시간이 소요됨</u>\n",
    "- 앞의 예제에서 코드를 가지고 와도, <u>초보자가 이해하기 어려운 코드</u>였고 조금씩 다르게 설정해야해서 ***엄청난 혼란***이 생겼음\n",
    "- 마지막에 <u>***gensim***</u>도 계속 에러가 났고, 버전을 다운그레이드하라고 되어있었는데 <u>다운그레이드하는 코드를 알려줬어야 하는것이 아닌가...</u> 심지어는 다운그레이드와는 관련없는 에러이슈인듯해서 더 절망적이다.\n",
    "- 금토일 주말동안 이 프로젝트에만 **하루 10시간씩을 투자**했으나... 결국은 노드에 없는 코드로 성공.<br> \n",
    "***노드를 교과서로 생각하는 아이펠 학생들에게는*** <span style='color:red'>청천벽력</span>같은 소식이라고 생각함. 언동 퍼실님이 보여준 <span style='color:green'>**코드 닌자**</span>를 연상케하는 노드였다."
   ]
  },
  {
   "cell_type": "markdown",
   "id": "196b28b3",
   "metadata": {},
   "source": [
    "## 자기 다짐\n",
    "\n",
    "나는 할만큼 했다"
   ]
  }
 ],
 "metadata": {
  "kernelspec": {
   "display_name": "Python 3 (ipykernel)",
   "language": "python",
   "name": "python3"
  },
  "language_info": {
   "codemirror_mode": {
    "name": "ipython",
    "version": 3
   },
   "file_extension": ".py",
   "mimetype": "text/x-python",
   "name": "python",
   "nbconvert_exporter": "python",
   "pygments_lexer": "ipython3",
   "version": "3.9.7"
  }
 },
 "nbformat": 4,
 "nbformat_minor": 5
}
